{
 "cells": [
  {
   "cell_type": "code",
   "execution_count": 1,
   "metadata": {},
   "outputs": [],
   "source": [
    "import numpy as np\n",
    "import matplotlib.pyplot as plt\n",
    "from math import factorial"
   ]
  },
  {
   "cell_type": "code",
   "execution_count": 2,
   "metadata": {},
   "outputs": [],
   "source": [
    "def binomial(n,k):\n",
    "    return factorial(n)/(factorial(k)*factorial(n-k))\n",
    "\n",
    "def multinomial(lst,n):\n",
    "    m = factorial(n)\n",
    "    for i in lst:\n",
    "        m *= 1/factorial(i)\n",
    "    return m"
   ]
  },
  {
   "cell_type": "code",
   "execution_count": 3,
   "metadata": {},
   "outputs": [],
   "source": [
    "# Dados dos numeros n,m lst retorna todas las tuplas que son soluciones de enteros no negativas a la ecuación\n",
    "# r1 + r2 + ... + rm = n\n",
    "def lst(n,m):\n",
    "    Num_sol = []\n",
    "    if(n == 0):\n",
    "        Num_sol = [[0]*m]\n",
    "    elif(m == 1):\n",
    "        Num_sol = [[n]]\n",
    "    else:\n",
    "        for i in range(n+1):\n",
    "            arr = []\n",
    "            c = lst(n-i,m-1)\n",
    "            for x in c:\n",
    "                arr.append([i]+x)\n",
    "            Num_sol = Num_sol + arr\n",
    "    return Num_sol\n",
    "\n",
    "#Obtiene vector de posibles enerias del sistema\n",
    "def get_Us(Num_sol,E_spectrum):\n",
    "    Us = []\n",
    "    for sol in Num_sol:\n",
    "        energy = np.dot(E_spectrum,sol)\n",
    "        Us.append(energy)\n",
    "    return Us"
   ]
  },
  {
   "cell_type": "code",
   "execution_count": 16,
   "metadata": {},
   "outputs": [],
   "source": [
    "#Función que re ordena los estados segun una energia total del sistema.\n",
    "#micros es un arreglo de areglos, cuyos elementos son de la forma [[n1,n2,...,n_m],...,[r1,r2,...,r_m]], comopartiendo estos\n",
    "#la misma energia\n",
    "# Retorna tambien la entropia y el numero de estados W para una energia dada\n",
    "\n",
    "def get_thermo_var(U,E_spctrm,Num_sol):\n",
    "    micros = [] #microestado especificado por numeros de ocupacion\n",
    "    MM = []\n",
    "    W = 0\n",
    "    for micro in Num_sol:\n",
    "        Energy = np.dot(micro,E_spctrm)\n",
    "        if(Energy == U):\n",
    "            micros.append(micro)\n",
    "            W += multinomial(micro,n)\n",
    "    if(W != 0):\n",
    "        S = np.log(W)\n",
    "    else:\n",
    "        S = -1\n",
    "    return micros,W,S\n",
    "\n",
    "#Dado un n ( numero de particulas), y un espectro de enrgia asociado E_spctrm, \n",
    "#retorna todos los micorestados, los vectores degeneración Ws, entropia Ss y energia Us\n",
    "def simulate(n,E_spctrm):\n",
    "    Num_solutions = lst(n,len(E_spctrm))\n",
    "    Us = get_Us(Num_solutions, E_spctrm)\n",
    "    Ss = []\n",
    "    Ws = []\n",
    "    Micros_array = []\n",
    "    for energy in Us:\n",
    "        micros,W,S = get_thermo_var(energy,E_spctrm,Num_solutions)\n",
    "        Micros_array.append(micros)\n",
    "        Ws.append(W)\n",
    "        Ss.append(S)\n",
    "    return Micros_array,Ws,Ss,Us\n",
    "\n",
    "def plot_figures(Us,Ss,Ws):\n",
    "    fig1,ax1 = plt.subplots()\n",
    "    ax1.plot(Us,Ws,'o',label = 'W vs U')\n",
    "    ax1.set_xlabel('U')\n",
    "    ax1.set_ylabel('W')\n",
    "    ax1.legend()\n",
    "    plt.show()\n",
    "    fig1,ax1 = plt.subplots()\n",
    "    ax1.plot(Us,Ss,'o',label = 'S vs U')\n",
    "    ax1.set_xlabel('U')\n",
    "    ax1.set_ylabel('S')\n",
    "    ax1.legend()\n",
    "    plt.show()"
   ]
  },
  {
   "cell_type": "code",
   "execution_count": 17,
   "metadata": {},
   "outputs": [
    {
     "data": {
      "image/png": "[encoded data removed]",
      "text/plain": [
       "<Figure size 432x288 with 1 Axes>"
      ]
     },
     "metadata": {
      "needs_background": "light"
     },
     "output_type": "display_data"
    },
    {
     "data": {
      "image/png": "[encoded data removed]",
      "text/plain": [
       "<Figure size 432x288 with 1 Axes>"
      ]
     },
     "metadata": {
      "needs_background": "light"
     },
     "output_type": "display_data"
    }
   ],
   "source": [
    "n = 10 #numero de particulas\n",
    "E_spctrm = [1,2,4,8]\n",
    "MS,Ws,Ss,Us = simulate(n,E_spctrm)\n",
    "plot_figures(Us,Ss,Ws)"
   ]
  }
 ],
 "metadata": {
  "kernelspec": {
   "display_name": "Python 3",
   "language": "python",
   "name": "python3"
  },
  "language_info": {
   "codemirror_mode": {
    "name": "ipython",
    "version": 3
   },
   "file_extension": ".py",
   "mimetype": "text/x-python",
   "name": "python",
   "nbconvert_exporter": "python",
   "pygments_lexer": "ipython3",
   "version": "3.7.1"
  }
 },
 "nbformat": 4,
 "nbformat_minor": 2
}
