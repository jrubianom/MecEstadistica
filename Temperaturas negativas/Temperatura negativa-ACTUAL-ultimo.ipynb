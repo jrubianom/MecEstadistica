{
 "cells": [
  {
   "cell_type": "code",
   "execution_count": 1,
   "metadata": {},
   "outputs": [],
   "source": [
    "import numpy as np\n",
    "import matplotlib.pyplot as plt\n",
    "from math import factorial\n",
    "import time"
   ]
  },
  {
   "cell_type": "code",
   "execution_count": 2,
   "metadata": {},
   "outputs": [],
   "source": [
    "def binomial(n,k):\n",
    "    return factorial(n)/(factorial(k)*factorial(n-k))\n",
    "\n",
    "def multinomial(lst,n):\n",
    "    m = factorial(n)\n",
    "    for i in lst:\n",
    "        m *= 1/factorial(i)\n",
    "    return m"
   ]
  },
  {
   "cell_type": "code",
   "execution_count": 3,
   "metadata": {},
   "outputs": [],
   "source": [
    "# Dados dos numeros n,m lst retorna todas las tuplas que son soluciones de enteros no negativas a la ecuación\n",
    "# r1 + r2 + ... + rm = n\n",
    "def lst(n,m):\n",
    "    Num_sol = []\n",
    "    if(n == 0):\n",
    "        Num_sol = [[0]*m]\n",
    "    elif(m == 1):\n",
    "        Num_sol = [[n]]\n",
    "    else:\n",
    "        for i in range(n+1):\n",
    "            arr = []\n",
    "            c = lst(n-i,m-1)\n",
    "            for x in c:\n",
    "                arr.append([i]+x)\n",
    "            Num_sol = Num_sol + arr\n",
    "    return Num_sol"
   ]
  },
  {
   "cell_type": "markdown",
   "metadata": {},
   "source": [
    "### Para darse una idea de lo que hace lst, corra la siguiente casilla dandole valores a n y a m"
   ]
  },
  {
   "cell_type": "code",
   "execution_count": 4,
   "metadata": {
    "scrolled": true
   },
   "outputs": [
    {
     "data": {
      "text/plain": [
       "[[0, 0, 2], [0, 1, 1], [0, 2, 0], [1, 0, 1], [1, 1, 0], [2, 0, 0]]"
      ]
     },
     "execution_count": 4,
     "metadata": {},
     "output_type": "execute_result"
    }
   ],
   "source": [
    "lst(2,3)"
   ]
  },
  {
   "cell_type": "code",
   "execution_count": 5,
   "metadata": {},
   "outputs": [],
   "source": [
    "# Autodescriptiva\n",
    "def plot_figures(n,Us,Ss,Ws):\n",
    "    X,Y,Z = np.asarray(Us),np.asarray(Ss),np.asarray(Ws)\n",
    "    fig1,ax1 = plt.subplots()\n",
    "    ax1.plot(Us,Ws,'o',label = 'W vs U')\n",
    "    ax1.set_xlabel('U')\n",
    "    ax1.set_ylabel('W')\n",
    "    ax1.legend()\n",
    "    plt.show()\n",
    "    fig1,ax1 = plt.subplots()\n",
    "    ax1.plot(X/n,Y/n,'o',label = 'S vs U')\n",
    "    ax1.set_xlabel('U')\n",
    "    ax1.set_ylabel('S')\n",
    "    ax1.legend()\n",
    "    plt.show()"
   ]
  },
  {
   "cell_type": "markdown",
   "metadata": {},
   "source": [
    "### Simulación"
   ]
  },
  {
   "cell_type": "markdown",
   "metadata": {},
   "source": [
    "### Idea para contar microestados:\n",
    "se tiene el vector Num_sol y el vector Us con las energias posibles del sistema , ordenado. W será el vector cuyo elemento_i es el numero de microestados compatibles con la energia Us_i\n",
    "\n",
    "W = []\n",
    "\n",
    "Para energia en Us:\n",
    "    \n",
    "    W_e = 0\n",
    "\n",
    "    Para estado en Num_sol:\n",
    "    \n",
    "        Si energia_del_estado = energia :\n",
    "        \n",
    "            W_e += calcular_degeneracion(estado)\n",
    "            \n",
    "            Num_sol.Borrar(estado)\n",
    "     \n",
    "     W.agregar(W_e)\n",
    "            \n",
    "Lo de borrar estado se hace para que se agilice la ejecucion con el paso de las iteraciones\n",
    "\n",
    "\n",
    "Más aun, el codigo se ha hecho con un parametro index_ratio, para que el ciclo de arriba empiece por las energias\n",
    "que poseen mayor numero de microestados, de esta forma el codigo es más eficiente.\n",
    "Por esta razón, si va a correr el codigo para n grandes, hagalo primero para n pequeños \n",
    "y viendo la grafica estime dicho index_ratio ( que depende del espectro). Por ejemplo, si el espectro es equiespaciado,\n",
    "entonces ponga index_ratio = 0.5\n",
    "Aun asi, para numeros muy grandes, puede tardar minutos, sin mbargo, puede notar que con numeros pequeños se pueden hacer graficas que se parecen a las que salen con numeros grandes, lucen similares pero escaladas."
   ]
  },
  {
   "cell_type": "code",
   "execution_count": 6,
   "metadata": {},
   "outputs": [],
   "source": [
    "#Dada una lista, la ordena de menor a mayor y elimina las redundancias    \n",
    "def Simplify_Us(Us):\n",
    "    Us.sort()\n",
    "    min_energy = Us[0]\n",
    "    U_new = [min_energy]\n",
    "    for energy in Us:\n",
    "        if(energy>min_energy):\n",
    "            min_energy = energy\n",
    "            U_new.append(energy)\n",
    "    return U_new\n",
    "\n",
    "#Obtiene vector de posibles enerias del sistema\n",
    "def get_Us(Num_sol,E_spectrum):\n",
    "    Us = []\n",
    "    for sol in Num_sol:\n",
    "        energy = np.dot(E_spectrum,sol)\n",
    "        Us.append(energy)\n",
    "    return Simplify_Us(Us)\n",
    "\n",
    "\n",
    "\n",
    "#Dada una energia U, numero de particulas n, Espetro E_spctrm y arreglo con TODOS los estados de ocupación Num_sol\n",
    "# retorna la degenarión de U ( W) y la entropia S \n",
    "def get_thermo_var(U,n,E_spctrm,Num_sol):\n",
    "    W = 0\n",
    "    total_micros = len(Num_sol)\n",
    "    micro = 0\n",
    "    for iteration in range(total_micros):\n",
    "        Energy = np.dot(Num_sol[micro],E_spctrm)\n",
    "        if(Energy == U):\n",
    "            W += multinomial(Num_sol[micro],n)\n",
    "            del Num_sol[micro]\n",
    "            micro -= 1\n",
    "        micro += 1\n",
    "    if(W != 0):\n",
    "        S = np.log(W)\n",
    "    else:\n",
    "        S = -1\n",
    "    return W,S\n",
    "\n",
    "#Dado un n ( numero de particulas), y un espectro de enrgia asociado E_spctrm, \n",
    "#retorna los vectores degeneración Ws, entropia Ss y energia Us\n",
    "#Si la bandera flag se ha activado (True), imprimer numeros cada vez que hay una iteración, que deben ir desde 0 hasta len energia\n",
    "#Esto para que se de una idea del tiempo que falta para acabar la ejecución, tenga en cuenta que el algotimo está hecho\n",
    "# de tal forma que intenta ser más rapido con el paso de las iteraciones\n",
    "\n",
    "def simulate(n,E_spctrm,maxi,error,flag = False):\n",
    "    Num_solutions = lst(n,len(E_spctrm))\n",
    "    Us = get_Us(Num_solutions, E_spctrm)\n",
    "    len_U = len(Us)\n",
    "    Ss = [0]*len_U\n",
    "    Ws = [0]*len_U\n",
    "    print('len energia\\t',len(Us))\n",
    "    maximum_index = find_index_maximum(maxi,Us,error)\n",
    "    index_list = re_organize_index(len_U,maximum_index)\n",
    "    i = 0\n",
    "    for index in index_list:\n",
    "        energy = Us[index]\n",
    "        W,S = get_thermo_var(energy,n,E_spctrm,Num_solutions)\n",
    "        Ws[index] = W\n",
    "        Ss[index] = S\n",
    "        if(flag):\n",
    "            print('Iteración #:\\t',i,' de\\t',len_U)\n",
    "            i += 1\n",
    "    return Ws,Ss,Us\n",
    "\n",
    "def simulate_and_plot(n,E_spctrm,maxi,error = 1,flag = False):\n",
    "    m = len(E_spctrm)\n",
    "    Num_sol = lst(n,m)\n",
    "    Ws,Ss,Us = simulate(n,E_spctrm,maxi,error,flag)\n",
    "    plot_figures(n,Us,Ss,Ws)\n",
    "    return Ws,Ss,Us\n",
    "\n",
    "\n",
    "\n",
    "def simulate_small(n,E_spctrm,flag = False):\n",
    "    Num_solutions = lst(n,len(E_spctrm))\n",
    "    Us = get_Us(Num_solutions, E_spctrm)\n",
    "    len_U = len(Us)\n",
    "    Ss = [0]*len_U\n",
    "    Ws = [0]*len_U\n",
    "    if(flag):\n",
    "        print('len energia\\t',len(Us))\n",
    "    maximum_index = int(0.5*len_U-1)\n",
    "    index_list = re_organize_index(len_U,maximum_index)\n",
    "    i = 0\n",
    "    for index in index_list:\n",
    "        energy = Us[index]\n",
    "        W,S = get_thermo_var(energy,n,E_spctrm,Num_solutions)\n",
    "        Ws[index] = W\n",
    "        Ss[index] = S\n",
    "        if(flag):\n",
    "            print('Iteración #:\\t',i,' de\\t',len_U)\n",
    "            i += 1\n",
    "    return Ws,Ss,Us\n",
    "\n",
    "\n",
    "\n",
    "def simulate_small_n(n_small,n,E_spctrm,flag = False):\n",
    "    Ws_nsmall,Ss_nsmall,Us_nsmall = simulate_small(n_small,E_spctrm,flag)\n",
    "    index_max = np.argmax(Ss_nsmall)\n",
    "    maxi = n/n_small*Us_nsmall[index_max]\n",
    "    return maxi\n",
    "\n",
    "def find_index_maximum(maxi,Us,error):\n",
    "    A = []\n",
    "    for enrg in range(len(Us)):\n",
    "        if(np.abs(maxi-Us[enrg]) <= error):\n",
    "            A.append(enrg)\n",
    "    A.sort()\n",
    "    return A[-1]"
   ]
  },
  {
   "cell_type": "code",
   "execution_count": 7,
   "metadata": {},
   "outputs": [],
   "source": [
    "def re_organize_index(L,maxi):\n",
    "    Up = []\n",
    "    Up.append(maxi)\n",
    "    for i in range(1,maxi+1):\n",
    "        if((maxi+i) < L):\n",
    "            Up.append(maxi+i)\n",
    "        Up.append(maxi-i)\n",
    "    if(2*maxi <L):\n",
    "        for i in range(2*maxi+1,L):\n",
    "            Up.append(i)\n",
    "    return Up"
   ]
  },
  {
   "cell_type": "code",
   "execution_count": 8,
   "metadata": {
    "scrolled": false
   },
   "outputs": [
    {
     "name": "stdout",
     "output_type": "stream",
     "text": [
      "Numero total de soluciones como tuplas:\t 1771.0\n"
     ]
    }
   ],
   "source": [
    "# Especificar parametros\n",
    "n = 20 #numero de particulas\n",
    "E_spectrum = [1,2,4,8]\n",
    "m = len(E_spectrum)\n",
    "print('Numero total de soluciones como tuplas:\\t',binomial(n+m-1,m-1))"
   ]
  },
  {
   "cell_type": "code",
   "execution_count": 9,
   "metadata": {},
   "outputs": [
    {
     "name": "stdout",
     "output_type": "stream",
     "text": [
      "len energia\t 136\n"
     ]
    },
    {
     "data": {
      "image/png": "[encoded data removed]",
      "text/plain": [
       "<Figure size 432x288 with 1 Axes>"
      ]
     },
     "metadata": {
      "needs_background": "light"
     },
     "output_type": "display_data"
    },
    {
     "data": {
      "image/png": "[encoded data removed]",
      "text/plain": [
       "<Figure size 432x288 with 1 Axes>"
      ]
     },
     "metadata": {
      "needs_background": "light"
     },
     "output_type": "display_data"
    }
   ],
   "source": [
    "n_small = 5\n",
    "maxi = simulate_small_n(n_small,n,E_spectrum,flag = False)\n",
    "Ws,Ss,Us = simulate_and_plot(n,E_spectrum,maxi,1,False)"
   ]
  },
  {
   "cell_type": "code",
   "execution_count": 10,
   "metadata": {
    "scrolled": true
   },
   "outputs": [
    {
     "name": "stderr",
     "output_type": "stream",
     "text": [
      "C:\\Users\\Alejandro\\Anaconda3\\lib\\site-packages\\ipykernel_launcher.py:1: DeprecationWarning: time.clock has been deprecated in Python 3.3 and will be removed from Python 3.8: use time.perf_counter or time.process_time instead\n",
      "  \"\"\"Entry point for launching an IPython kernel.\n"
     ]
    },
    {
     "name": "stdout",
     "output_type": "stream",
     "text": [
      "len energia\t 136\n",
      "Iteración #:\t 0  de\t 136\n",
      "Iteración #:\t 1  de\t 136\n",
      "Iteración #:\t 2  de\t 136\n",
      "Iteración #:\t 3  de\t 136\n",
      "Iteración #:\t 4  de\t 136\n",
      "Iteración #:\t 5  de\t 136\n",
      "Iteración #:\t 6  de\t 136\n",
      "Iteración #:\t 7  de\t 136\n",
      "Iteración #:\t 8  de\t 136\n",
      "Iteración #:\t 9  de\t 136\n",
      "Iteración #:\t 10  de\t 136\n",
      "Iteración #:\t 11  de\t 136\n",
      "Iteración #:\t 12  de\t 136\n",
      "Iteración #:\t 13  de\t 136\n",
      "Iteración #:\t 14  de\t 136\n",
      "Iteración #:\t 15  de\t 136\n",
      "Iteración #:\t 16  de\t 136\n",
      "Iteración #:\t 17  de\t 136\n",
      "Iteración #:\t 18  de\t 136\n",
      "Iteración #:\t 19  de\t 136\n",
      "Iteración #:\t 20  de\t 136\n",
      "Iteración #:\t 21  de\t 136\n",
      "Iteración #:\t 22  de\t 136\n",
      "Iteración #:\t 23  de\t 136\n",
      "Iteración #:\t 24  de\t 136\n",
      "Iteración #:\t 25  de\t 136\n",
      "Iteración #:\t 26  de\t 136\n",
      "Iteración #:\t 27  de\t 136\n",
      "Iteración #:\t 28  de\t 136\n",
      "Iteración #:\t 29  de\t 136\n",
      "Iteración #:\t 30  de\t 136\n",
      "Iteración #:\t 31  de\t 136\n",
      "Iteración #:\t 32  de\t 136\n",
      "Iteración #:\t 33  de\t 136\n",
      "Iteración #:\t 34  de\t 136\n",
      "Iteración #:\t 35  de\t 136\n",
      "Iteración #:\t 36  de\t 136\n",
      "Iteración #:\t 37  de\t 136\n",
      "Iteración #:\t 38  de\t 136\n",
      "Iteración #:\t 39  de\t 136\n",
      "Iteración #:\t 40  de\t 136\n",
      "Iteración #:\t 41  de\t 136\n",
      "Iteración #:\t 42  de\t 136\n",
      "Iteración #:\t 43  de\t 136\n",
      "Iteración #:\t 44  de\t 136\n",
      "Iteración #:\t 45  de\t 136\n",
      "Iteración #:\t 46  de\t 136\n",
      "Iteración #:\t 47  de\t 136\n",
      "Iteración #:\t 48  de\t 136\n",
      "Iteración #:\t 49  de\t 136\n",
      "Iteración #:\t 50  de\t 136\n",
      "Iteración #:\t 51  de\t 136\n",
      "Iteración #:\t 52  de\t 136\n",
      "Iteración #:\t 53  de\t 136\n",
      "Iteración #:\t 54  de\t 136\n",
      "Iteración #:\t 55  de\t 136\n",
      "Iteración #:\t 56  de\t 136\n",
      "Iteración #:\t 57  de\t 136\n",
      "Iteración #:\t 58  de\t 136\n",
      "Iteración #:\t 59  de\t 136\n",
      "Iteración #:\t 60  de\t 136\n",
      "Iteración #:\t 61  de\t 136\n",
      "Iteración #:\t 62  de\t 136\n",
      "Iteración #:\t 63  de\t 136\n",
      "Iteración #:\t 64  de\t 136\n",
      "Iteración #:\t 65  de\t 136\n",
      "Iteración #:\t 66  de\t 136\n",
      "Iteración #:\t 67  de\t 136\n",
      "Iteración #:\t 68  de\t 136\n",
      "Iteración #:\t 69  de\t 136\n",
      "Iteración #:\t 70  de\t 136\n",
      "Iteración #:\t 71  de\t 136\n",
      "Iteración #:\t 72  de\t 136\n",
      "Iteración #:\t 73  de\t 136\n",
      "Iteración #:\t 74  de\t 136\n",
      "Iteración #:\t 75  de\t 136\n",
      "Iteración #:\t 76  de\t 136\n",
      "Iteración #:\t 77  de\t 136\n",
      "Iteración #:\t 78  de\t 136\n",
      "Iteración #:\t 79  de\t 136\n",
      "Iteración #:\t 80  de\t 136\n",
      "Iteración #:\t 81  de\t 136\n",
      "Iteración #:\t 82  de\t 136\n",
      "Iteración #:\t 83  de\t 136\n",
      "Iteración #:\t 84  de\t 136\n",
      "Iteración #:\t 85  de\t 136\n",
      "Iteración #:\t 86  de\t 136\n",
      "Iteración #:\t 87  de\t 136\n",
      "Iteración #:\t 88  de\t 136\n",
      "Iteración #:\t 89  de\t 136\n",
      "Iteración #:\t 90  de\t 136\n",
      "Iteración #:\t 91  de\t 136\n",
      "Iteración #:\t 92  de\t 136\n",
      "Iteración #:\t 93  de\t 136\n",
      "Iteración #:\t 94  de\t 136\n",
      "Iteración #:\t 95  de\t 136\n",
      "Iteración #:\t 96  de\t 136\n",
      "Iteración #:\t 97  de\t 136\n",
      "Iteración #:\t 98  de\t 136\n",
      "Iteración #:\t 99  de\t 136\n",
      "Iteración #:\t 100  de\t 136\n",
      "Iteración #:\t 101  de\t 136\n",
      "Iteración #:\t 102  de\t 136\n",
      "Iteración #:\t 103  de\t 136\n",
      "Iteración #:\t 104  de\t 136\n",
      "Iteración #:\t 105  de\t 136\n",
      "Iteración #:\t 106  de\t 136\n",
      "Iteración #:\t 107  de\t 136\n",
      "Iteración #:\t 108  de\t 136\n",
      "Iteración #:\t 109  de\t 136\n",
      "Iteración #:\t 110  de\t 136\n",
      "Iteración #:\t 111  de\t 136\n",
      "Iteración #:\t 112  de\t 136\n",
      "Iteración #:\t 113  de\t 136\n",
      "Iteración #:\t 114  de\t 136\n",
      "Iteración #:\t 115  de\t 136\n",
      "Iteración #:\t 116  de\t 136\n",
      "Iteración #:\t 117  de\t 136\n",
      "Iteración #:\t 118  de\t 136\n",
      "Iteración #:\t 119  de\t 136\n",
      "Iteración #:\t 120  de\t 136\n",
      "Iteración #:\t 121  de\t 136\n",
      "Iteración #:\t 122  de\t 136\n",
      "Iteración #:\t 123  de\t 136\n",
      "Iteración #:\t 124  de\t 136\n",
      "Iteración #:\t 125  de\t 136\n",
      "Iteración #:\t 126  de\t 136\n",
      "Iteración #:\t 127  de\t 136\n",
      "Iteración #:\t 128  de\t 136\n",
      "Iteración #:\t 129  de\t 136\n",
      "Iteración #:\t 130  de\t 136\n",
      "Iteración #:\t 131  de\t 136\n",
      "Iteración #:\t 132  de\t 136\n",
      "Iteración #:\t 133  de\t 136\n",
      "Iteración #:\t 134  de\t 136\n",
      "Iteración #:\t 135  de\t 136\n"
     ]
    },
    {
     "data": {
      "image/png": "[encoded data removed]",
      "text/plain": [
       "<Figure size 432x288 with 1 Axes>"
      ]
     },
     "metadata": {
      "needs_background": "light"
     },
     "output_type": "display_data"
    },
    {
     "data": {
      "image/png": "[encoded data removed]",
      "text/plain": [
       "<Figure size 432x288 with 1 Axes>"
      ]
     },
     "metadata": {
      "needs_background": "light"
     },
     "output_type": "display_data"
    },
    {
     "name": "stdout",
     "output_type": "stream",
     "text": [
      "Tiempo:\t 0.44970089999999985\n"
     ]
    },
    {
     "name": "stderr",
     "output_type": "stream",
     "text": [
      "C:\\Users\\Alejandro\\Anaconda3\\lib\\site-packages\\ipykernel_launcher.py:3: DeprecationWarning: time.clock has been deprecated in Python 3.3 and will be removed from Python 3.8: use time.perf_counter or time.process_time instead\n",
      "  This is separate from the ipykernel package so we can avoid doing imports until\n"
     ]
    }
   ],
   "source": [
    "tic = time.clock()\n",
    "Ws,Ss,Us = simulate_and_plot(n,E_spectrum,maxi,1,True)\n",
    "toc = time.clock()\n",
    "print('Tiempo:\\t',toc-tic)"
   ]
  },
  {
   "cell_type": "code",
   "execution_count": 16,
   "metadata": {},
   "outputs": [],
   "source": [
    "def make_all(n,E_spectrum,n_small = 5, error = 1,flag_plot = False):\n",
    "    maxi = simulate_small_n(n_small,n,E_spectrum,flag = False)\n",
    "    return simulate_and_plot(n,E_spectrum,maxi,error,flag_plot)"
   ]
  },
  {
   "cell_type": "code",
   "execution_count": 17,
   "metadata": {},
   "outputs": [
    {
     "name": "stdout",
     "output_type": "stream",
     "text": [
      "Numero total de soluciones como tuplas:\t 286.0\n"
     ]
    }
   ],
   "source": [
    "n = 10 #numero de particulas\n",
    "E_sp = [1,2]\n",
    "m = len(E_spectrum)\n",
    "print('Numero total de soluciones como tuplas:\\t',binomial(n+m-1,m-1))"
   ]
  },
  {
   "cell_type": "code",
   "execution_count": 18,
   "metadata": {
    "scrolled": true
   },
   "outputs": [
    {
     "name": "stdout",
     "output_type": "stream",
     "text": [
      "len energia\t 11\n"
     ]
    },
    {
     "data": {
      "image/png": "[encoded data removed]",
      "text/plain": [
       "<Figure size 432x288 with 1 Axes>"
      ]
     },
     "metadata": {
      "needs_background": "light"
     },
     "output_type": "display_data"
    },
    {
     "data": {
      "image/png": "[encoded data removed]",
      "text/plain": [
       "<Figure size 432x288 with 1 Axes>"
      ]
     },
     "metadata": {
      "needs_background": "light"
     },
     "output_type": "display_data"
    }
   ],
   "source": [
    "Simul_20 = make_all(10,E_sp,5,1,False)"
   ]
  },
  {
   "cell_type": "markdown",
   "metadata": {},
   "source": [
    "#### Función de partición"
   ]
  },
  {
   "cell_type": "code",
   "execution_count": 19,
   "metadata": {},
   "outputs": [],
   "source": [
    "beta_max = 100\n",
    "beta = np.linspace(-beta_max,beta_max,2*beta_max)\n",
    "Energies = np.asarray([1,10,100,1000,10000])\n",
    "max_e = np.max(Energies)\n",
    "Energies = Energies/max_e"
   ]
  },
  {
   "cell_type": "code",
   "execution_count": 20,
   "metadata": {},
   "outputs": [
    {
     "data": {
      "text/plain": [
       "[<matplotlib.lines.Line2D at 0x2959f64cc08>]"
      ]
     },
     "execution_count": 20,
     "metadata": {},
     "output_type": "execute_result"
    },
    {
     "data": {
      "image/png": "[encoded data removed]",
      "text/plain": [
       "<Figure size 432x288 with 1 Axes>"
      ]
     },
     "metadata": {
      "needs_background": "light"
     },
     "output_type": "display_data"
    }
   ],
   "source": [
    "n = 50\n",
    "Es,betas = np.meshgrid(Energies,beta)\n",
    "Z = np.multiply(Es,betas)\n",
    "#Z arreglo cuya fila i-esima represneta beta constante, columnas representan energias\n",
    "#Z_ij = energia_j * beta_i\n",
    "Ns = np.exp(-Z)\n",
    "Q1 = np.sum(Ns,axis = 1)\n",
    "Ep =  np.sum(np.multiply(Es,Ns),axis = 1)/Q1\n",
    "Sp = np.log(Q1)+np.multiply(beta,Ep)\n",
    "plt.plot(Ep,Sp,'-')"
   ]
  },
  {
   "cell_type": "code",
   "execution_count": null,
   "metadata": {},
   "outputs": [],
   "source": []
  }
 ],
 "metadata": {
  "kernelspec": {
   "display_name": "Python 3",
   "language": "python",
   "name": "python3"
  },
  "language_info": {
   "codemirror_mode": {
    "name": "ipython",
    "version": 3
   },
   "file_extension": ".py",
   "mimetype": "text/x-python",
   "name": "python",
   "nbconvert_exporter": "python",
   "pygments_lexer": "ipython3",
   "version": "3.7.4"
  }
 },
 "nbformat": 4,
 "nbformat_minor": 2
}
